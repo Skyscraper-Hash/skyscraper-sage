{
 "cells": [
  {
   "cell_type": "code",
   "execution_count": 1,
   "id": "ec0b1cc4",
   "metadata": {},
   "outputs": [],
   "source": [
    "load('skyscraper.sage')"
   ]
  },
  {
   "cell_type": "markdown",
   "id": "5e7c458b",
   "metadata": {},
   "source": [
    "# Example 1: Skyscraper"
   ]
  },
  {
   "cell_type": "code",
   "execution_count": 2,
   "id": "ef6807e0",
   "metadata": {},
   "outputs": [
    {
     "name": "stdout",
     "output_type": "stream",
     "text": [
      "SKYSCRAPER over Finite Field of size 28657. Feistel rounds: x^2 B x^2 B x^2\n",
      "BAR over Finite Field of size 28657 (15 bits base field). Decomposition of 16 bits into 2 parts of size 8. Circular left-rotation by 1.\n",
      "Round 1 out: (0, 0) -> (0, 0)\n",
      "Round 2 out: (0, 0) -> (0, 22372)\n",
      "Round 3 out: (22372, 0) -> (22372, 7170)\n",
      "Round 4 out: (7170, 22372) -> (7170, 14098)\n",
      "Round 5 out: (14098, 7170) -> (14098, 17032)\n"
     ]
    },
    {
     "data": {
      "text/plain": [
       "[17032, 14098]"
      ]
     },
     "execution_count": 2,
     "metadata": {},
     "output_type": "execute_result"
    }
   ],
   "source": [
    "sky = Skyscraper(p=28657, n=1, num_B=1, num_S=1, N=2, debug=True, debugBar=False, rep='x')\n",
    "sky([sky.F.zero(),sky.F.zero()])"
   ]
  },
  {
   "cell_type": "code",
   "execution_count": 3,
   "id": "87c1d113",
   "metadata": {},
   "outputs": [],
   "source": [
    "# Predefined instances\n",
    "instances = [Sky_BLS381_1,Sky_BLS381_2,Sky_BLS381_3,Sky_BN254_1,Sky_BN254_2,Sky_BN254_3,Sky_PALLAS_1,Sky_PALLAS_2,Sky_PALLAS_3,Sky_VESTA_1,Sky_VESTA_2,Sky_VESTA_3]\n",
    "\n",
    "for skyperm in instances:\n",
    "    state_in = [skyperm.F.random_element(), skyperm.F.random_element()]\n",
    "    state_out = skyperm(state_in)\n",
    "    assert(state_in == skyperm(state_out,inv=True))"
   ]
  },
  {
   "cell_type": "markdown",
   "id": "813bb91f",
   "metadata": {},
   "source": [
    "# Example 2: BAR (Table 3) \n",
    "$\\mathsf B': \\mathbb F_{p^n} \\to \\mathbb F_{p^n}$ for the $15$-bit prime $p = 28657$, $n \\in \\{1,2,3\\}$, and $m=2$. The extension field modulus is $X^n + 5$."
   ]
  },
  {
   "cell_type": "markdown",
   "id": "bf58b328",
   "metadata": {},
   "source": [
    "### $n=1$"
   ]
  },
  {
   "cell_type": "code",
   "execution_count": 4,
   "id": "0d4ee6ec",
   "metadata": {},
   "outputs": [
    {
     "name": "stdout",
     "output_type": "stream",
     "text": [
      "SKYSCRAPER over Finite Field of size 28657. Feistel rounds: x^2 B x^2 B x^2\n",
      "BAR: F_q -> F_q\n",
      "BAR(6093) = BAR([6093]) = BAR(['17cd']) = ...\n",
      "DECOMPOSE: 17cd -> ['17', 'cd']\n",
      "ROTATE LEFT BY 1:\n",
      "\tBefore: [['17', 'cd']]\n",
      "\tAfter:  [['cd', '17']]\n",
      "T: F_2^8 -> F_2^8. S(cd) = d3\n",
      "T: F_2^8 -> F_2^8. S(17) = 0e\n",
      "COMPOSE: ['d3', '0e'] -> d30e -> 631d\n",
      "BAR(6093) = 25373\n"
     ]
    }
   ],
   "source": [
    "sky = Skyscraper(p=28657, n=1, num_B=1, num_S=1, N=2, debug=False, debugBar=True, rep='x')\n",
    "print(sky)\n",
    "sky.BAR(sky.F(0x17cd));"
   ]
  },
  {
   "cell_type": "markdown",
   "id": "d79bc77d",
   "metadata": {},
   "source": [
    "### $n=2$"
   ]
  },
  {
   "cell_type": "code",
   "execution_count": 5,
   "id": "cb9486a0",
   "metadata": {},
   "outputs": [
    {
     "name": "stdout",
     "output_type": "stream",
     "text": [
      "SKYSCRAPER over Finite Field in a of size 28657^2. Feistel rounds: x^2 x^2 B x^2 x^2 B x^2 x^2\n",
      "BAR: F_q -> F_q\n",
      "BAR(5163*a + 7811) = BAR([7811, 5163]) = BAR(['1e83', '142b']) = ...\n",
      "DECOMPOSE: 1e83 -> ['1e', '83']\n",
      "DECOMPOSE: 142b -> ['14', '2b']\n",
      "ROTATE LEFT BY 1:\n",
      "\tBefore: [['1e', '83'], ['14', '2b']]\n",
      "\tAfter:  [['83', '14'], ['2b', '1e']]\n",
      "T: F_2^8 -> F_2^8. S(83) = 17\n",
      "T: F_2^8 -> F_2^8. S(14) = 28\n",
      "T: F_2^8 -> F_2^8. S(2b) = 46\n",
      "T: F_2^8 -> F_2^8. S(1e) = bc\n",
      "COMPOSE: ['17', '28'] -> 1728 -> 1728\n",
      "COMPOSE: ['46', 'bc'] -> 46bc -> 46bc\n",
      "BAR(5163*a + 7811) = 18108*a + 5928\n"
     ]
    }
   ],
   "source": [
    "sky = Skyscraper(p=28657, n=2, beta=5, num_B=1, num_S=2, N=2, debug=False, debugBar=True, rep='x')\n",
    "print(sky)\n",
    "sky.BAR(sky.F([0x1e83,0x142b]));"
   ]
  },
  {
   "cell_type": "markdown",
   "id": "02848533",
   "metadata": {},
   "source": [
    "### $n=3$"
   ]
  },
  {
   "cell_type": "code",
   "execution_count": 6,
   "id": "4b8a6695",
   "metadata": {},
   "outputs": [
    {
     "name": "stdout",
     "output_type": "stream",
     "text": [
      "SKYSCRAPER over Finite Field in a of size 28657^3. Feistel rounds: x^2 x^2 B B x^2 x^2 B B x^2 x^2\n",
      "BAR: F_q -> F_q\n",
      "BAR(11644*a^2 + 19118*a + 2510) = BAR([2510, 19118, 11644]) = BAR(['09ce', '4aae', '2d7c']) = ...\n",
      "DECOMPOSE: 09ce -> ['09', 'ce']\n",
      "DECOMPOSE: 4aae -> ['4a', 'ae']\n",
      "DECOMPOSE: 2d7c -> ['2d', '7c']\n",
      "ROTATE LEFT BY 1:\n",
      "\tBefore: [['09', 'ce'], ['4a', 'ae'], ['2d', '7c']]\n",
      "\tAfter:  [['ce', '4a'], ['ae', '2d'], ['7c', '09']]\n",
      "T: F_2^8 -> F_2^8. S(ce) = d9\n",
      "T: F_2^8 -> F_2^8. S(4a) = 94\n",
      "T: F_2^8 -> F_2^8. S(ae) = 1d\n",
      "T: F_2^8 -> F_2^8. S(2d) = 1a\n",
      "T: F_2^8 -> F_2^8. S(7c) = fa\n",
      "T: F_2^8 -> F_2^8. S(09) = 12\n",
      "COMPOSE: ['d9', '94'] -> d994 -> 69a3\n",
      "COMPOSE: ['1d', '1a'] -> 1d1a -> 1d1a\n",
      "COMPOSE: ['fa', '12'] -> fa12 -> 1a30\n",
      "BAR(11644*a^2 + 19118*a + 2510) = 6704*a^2 + 7450*a + 27043\n"
     ]
    }
   ],
   "source": [
    "sky = Skyscraper(p=28657, n=3, beta=5, num_B=2, num_S=2, N=2, debug=False, debugBar=True, rep='x')\n",
    "print(sky)\n",
    "sky.BAR(sky.F([0x09ce,0x4aae,0x2d7c]));"
   ]
  },
  {
   "cell_type": "code",
   "execution_count": null,
   "id": "15c14e80",
   "metadata": {},
   "outputs": [],
   "source": []
  }
 ],
 "metadata": {
  "kernelspec": {
   "display_name": "SageMath 9.5",
   "language": "sage",
   "name": "sagemath"
  },
  "language_info": {
   "codemirror_mode": {
    "name": "ipython",
    "version": 3
   },
   "file_extension": ".py",
   "mimetype": "text/x-python",
   "name": "python",
   "nbconvert_exporter": "python",
   "pygments_lexer": "ipython3",
   "version": "3.10.12"
  }
 },
 "nbformat": 4,
 "nbformat_minor": 5
}
