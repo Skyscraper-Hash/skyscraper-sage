{
 "cells": [
  {
   "cell_type": "markdown",
   "id": "d5b6088a",
   "metadata": {},
   "source": [
    "# Input sage file and load instances "
   ]
  },
  {
   "cell_type": "code",
   "execution_count": null,
   "id": "2662b093",
   "metadata": {
    "vscode": {
     "languageId": "sage"
    }
   },
   "outputs": [],
   "source": [
    "load('skyscraper.sage')"
   ]
  },
  {
   "cell_type": "code",
   "execution_count": 12,
   "id": "7b416dcc",
   "metadata": {
    "vscode": {
     "languageId": "sage"
    }
   },
   "outputs": [],
   "source": [
    "# Degree 1\n",
    "instances1 = [\n",
    "    Sky_BLS381_1,\n",
    "    Sky_BN254_1,\n",
    "    Sky_PALLAS_1,\n",
    "    Sky_VESTA_1\n",
    "]\n",
    "# Degree 2\n",
    "instances2 = [\n",
    "    Sky_BLS381_2,\n",
    "    Sky_BN254_2,\n",
    "    Sky_PALLAS_2,\n",
    "    Sky_VESTA_2\n",
    "]\n",
    "# Degree 3\n",
    "instances3 = [\n",
    "    Sky_BLS381_3,\n",
    "    Sky_BN254_3,\n",
    "    Sky_PALLAS_3,\n",
    "    Sky_VESTA_3\n",
    "]"
   ]
  },
  {
   "cell_type": "markdown",
   "id": "ad003916",
   "metadata": {},
   "source": [
    "Run all instances with degree 1 and 0 input on both branches of the feistel"
   ]
  },
  {
   "cell_type": "code",
   "execution_count": 15,
   "id": "ca2e880e",
   "metadata": {
    "vscode": {
     "languageId": "sage"
    }
   },
   "outputs": [
    {
     "name": "stdout",
     "output_type": "stream",
     "text": [
      "0x3f42e73d84f0c6f2f141ac0323d024ad91fa22d69150b9e18275ad723bee19c1\n",
      "0x20c1c37cc1792de0f4fa541a00d6bbea22cb73e11eb2073703ba4c6ced8b2ca1\n",
      "\n",
      "0xccee0e750cacbe110ab2b912d9cd38f0a4a74dbc4fa4bbcc2d3218600b3f9ea\n",
      "0x1b2f71d974b15a2eccf059f57022bca6ffae279d81831a0884d26a76d2307925\n",
      "\n",
      "0x281ca1a9dfc61fe281be770692138a091816ccfcb70af7753e350b87ecd46742\n",
      "0x24fa4abbddc9a993000738c1d3c0952b56ffa1302315c8c6fb34fec54d58b65b\n",
      "\n",
      "0x2505130135c7aac328a7dd0ea4d3c1dba1977d0b2c15a11d603375ec449738a5\n",
      "0x33ee1fc48d164e251ca038a07d0a3ac80c265ab262bce883193518edc51246d0\n",
      "\n"
     ]
    }
   ],
   "source": [
    "for sky in instances1:\n",
    "    s = [sky.F(0x0), sky.F(0x0)]\n",
    "    out = sky(s)\n",
    "    for o in out:\n",
    "        print(hex(o))\n",
    "    print(\"\")"
   ]
  },
  {
   "cell_type": "markdown",
   "id": "7ef05d44",
   "metadata": {},
   "source": [
    "Run all instances with degree 2 and 0 input on both branches of the feistel"
   ]
  },
  {
   "cell_type": "code",
   "execution_count": 28,
   "id": "e3840a34",
   "metadata": {
    "vscode": {
     "languageId": "sage"
    }
   },
   "outputs": [
    {
     "name": "stdout",
     "output_type": "stream",
     "text": [
      "0x4bed78b6c97785938b42a1f98cbb4ab596f0bda777a84af5413640491cf9a015*x^0 + 0x55d6d3b397095a556186beb52863380a4642f918938f18d82d4df0deafe56ef7*x^1\n",
      "0x69b0888929e49e18bdd5f712f9648bcf8af1f47594aa3431e4ea96cab482e760*x^0 + 0x1c326d9f91918c75bc8986525326376496f3a30cbcbad82749234a0a9368cbe9*x^1\n",
      "\n",
      "0x1d12f8fcaf09a679dd925e6afb392c4d4b33f6d2ad3d6aef605e1479a1e37b43*x^0 + 0xa919f2b6b6c82592b10010d81cd7af321cd0f83622a0835b3544266c4fb576c*x^1\n",
      "0xf97fa36ae51c852e5158c45175f9bb5d70f9545e6220d113ac2eddcb9c8035e*x^0 + 0x11bc84e665d1496be71db9dbfb212b5b926b71308c2dbd9ec5db4ed4fa1c35ac*x^1\n",
      "\n",
      "0x2e0af83edb24e6a128e3993d41dfd7de7d1b5b4bb317b3d73d8b61a72ee7c7e7*x^0 + 0x36c0ff80d0006feb06c2df3d102230b9a3f0590c04bf710a8cbc0ca548537514*x^1\n",
      "0xdd006c3877a8bad9569b8f8eaf39556988d895632ebc1dd6683fe4db48d582d*x^0 + 0x21b0eef1fdba90d05691c7507fd12e80342eefdb798dd59a000a7f4d89f587c0*x^1\n",
      "\n",
      "0x1e04fa2a803c1a58c19d9e7c6e7db18eaaea1be3a7f1818c5326a3dcfa4ab5f8*x^0 + 0x3f3756a80d3aeca494a1b18a033499c616cddbaf8d92227f253b68b53cfb8607*x^1\n",
      "0x20f5033f824ebc44449a9efbfe0830a7cf2438df39d0b67e4d75244a56da8ad7*x^0 + 0x3fda2a3377664d94515c3b0c42992f5a7e3739a9d8a5c385f6b4331b6153fa7c*x^1\n",
      "\n"
     ]
    }
   ],
   "source": [
    "for sky in instances2:\n",
    "    s = [sky.F(0x0), sky.F(0x0)]\n",
    "    out = sky(s)\n",
    "    for o in out:\n",
    "        coeffs0 = o.polynomial().coefficients(sparse=False)\n",
    "        hex_string = \" + \".join(f\"{hex(c)}*x^{i}\" for i, c in enumerate(coeffs0))\n",
    "        print(hex_string)\n",
    "    print(\"\")"
   ]
  },
  {
   "cell_type": "code",
   "execution_count": 30,
   "id": "1072b07c",
   "metadata": {
    "vscode": {
     "languageId": "sage"
    }
   },
   "outputs": [
    {
     "name": "stdout",
     "output_type": "stream",
     "text": [
      "0x46dbac8c464bf9f6881dc5e4b2fb7d7d5e5417918de6b1372d1abc657382ae34*x^0 + 0x317967bdb846cdf02e413ee920de065c0aa61367e9568b1e59e14b0b50f5db82*x^1 + 0x5338d58596d6f16ac18cedbf3bdfb677f819bf6eb3652a6290075578dcc0c5a4*x^2\n",
      "0x119905947de1e5d86fd041d466cd5a6e644151e6a199d129d67a014eeffe6759*x^0 + 0x5be95c402254d3b3e49d6df0a6798289ce336566231bc748d575cc591a41fba7*x^1 + 0x2127475c6b33d6321dc4f04f7602e5860b73bb3f7da077ee0be5bc5c6389174c*x^2\n",
      "\n",
      "0x2c2aec326666a48e99ec8114b603aae188510b3299898681cfa91989a3127808*x^0 + 0x3944ce3635b16ba96814758b8de5d7d00942891b41e489535a83ea962945b85*x^1 + 0x2c3a1c93f0564761c275ed904d731dc5cfcbe53566c231da6c782305a972f204*x^2\n",
      "0x2507827f38ff83a3c28f77596d2df989387d7b76f2b85db76d0470daaf8b989*x^0 + 0x111abac5c36ee319fcf2575e245279e7699163fd3947ab0fd8d4aec56fa84ae1*x^1 + 0x11d55e75341146e5d63a23af9decc6c395f8351967dc09862f569f186a44d64a*x^2\n",
      "\n",
      "0x84f1a69ff8b3ce36d78124a7b4386e14d2aba73e1664de9278345074073d4bd*x^0 + 0x27ac8b8d9b346430d31b95275a31daea366c60b5d9a53cff85d4662f6135993f*x^1 + 0x15fce2478c393ba3799ff64f4c6af52338ffc15d42f4366358b82a1c102a3283*x^2\n",
      "0x114933c4678878c0efe36cb4a19b769574036f7403a38515b1e7b6535d80efdf*x^0 + 0x27813ae109fb45de126ecbdb22e30d75f732abb6cfd660eeaed05e899de71d26*x^1 + 0x34fcdc3e8cd8fdfbf6e351e343023499a66f6d9abd715e6e3915391f8604cc35*x^2\n",
      "\n",
      "0x1b1137a3490240fed8f24badb7e4eb850a79f602279d6dc6941d3df76a36497a*x^0 + 0x381f72036e1317f1ae69e3114e6cd3aa4177d9905b53c57bdee3205a8d9421fe*x^1 + 0x3f1fd16189c1ce33170bd2a206d7e52cd06da8050569857125fcd051a864750f*x^2\n",
      "0x88d6b5257ccccba4776bcda8d138b7f000211e6df172162e77d74981ee78f90*x^0 + 0xfc8167ab2ff200c3bda6b4a24f36fb48f4f11111f4379a09a2b15f3ef712ee7*x^1 + 0x154381d7eb7fb0a5b001b1176861b080a4066b1bc04969cecf9a785c38a815c7*x^2\n",
      "\n"
     ]
    }
   ],
   "source": [
    "for sky in instances3:\n",
    "    s = [sky.F(0x0), sky.F(0x0)]\n",
    "    out = sky(s)\n",
    "    for o in out:\n",
    "        coeffs0 = o.polynomial().coefficients(sparse=False)\n",
    "        hex_string = \" + \".join(f\"{hex(c)}*x^{i}\" for i, c in enumerate(coeffs0))\n",
    "        print(hex_string)\n",
    "    print(\"\")"
   ]
  },
  {
   "cell_type": "markdown",
   "id": "dcd9646a",
   "metadata": {},
   "source": [
    "Run all instances with random inputs from rust implementation"
   ]
  },
  {
   "cell_type": "code",
   "execution_count": null,
   "id": "cbb33890",
   "metadata": {
    "vscode": {
     "languageId": "sage"
    }
   },
   "outputs": [
    {
     "name": "stdout",
     "output_type": "stream",
     "text": [
      "0x4eb0c78fe1edb5f5e4b582fea1d36c4778a3b09b51722dd741695995201d8859\n",
      "0x405de57b5b37facaf16a44b0edb2f6ba84996cefa686f70e187a0f34c5d16c8\n",
      "\n",
      "0x12998f99c09d1c18162041642fd35a0b31cfdf560bc6ee14fa841165cb51664e\n",
      "0x1a3d2642c9398e9bef8a84e5ede238a1fd395f9351be64ab377ecb11a0660fef\n",
      "\n",
      "0xf2eb2dea75b4b386a4f36231cc6cc50a3caf3946d06a85cf83824d29dceb7fb\n",
      "0x21e8cc98e7c3926444b670817a9631425ca7817571b9f8b697cb4d24cb5240c1\n",
      "\n",
      "0x2c7a5a2d2be4f84e575558a36d44fbdc5b7c93a41b5f78fae4d8b0b673537624\n",
      "0xd8fbf9f43be7eb1a7fce316c0110efeeae74639f8005788d8b3ff796f5ef8f3\n",
      "\n"
     ]
    }
   ],
   "source": [
    "s_bls = [Sky_BLS381_1.F(0x6f7721ff66a1725a6647d22c3a9032b91f2d82e3bf61a6f5a88ac1c1df0de2f4), Sky_BLS381_1.F(0x205325dcd29fb570ae478e12273840597b0d9adf8b76f6c8ed4ac3d9f1d8db4e)]\n",
    "s_bn  = [Sky_BN254_1.F(0x6f7721ff66a1725a6647d22c3a9032b91f2d82e3bf61a6f5a88ac1c1df0de2f4), Sky_BN254_1.F(0x205325dcd29fb570ae478e12273840597b0d9adf8b76f6c8ed4ac3d9f1d8db4e)]\n",
    "s_p   = [Sky_PALLAS_1.F(0x6f7721ff66a1725a6647d22c3a9032b91f2d82e3bf61a6f5a88ac1c1df0de2f4), Sky_PALLAS_1.F(0x205325dcd29fb570ae478e12273840597b0d9adf8b76f6c8ed4ac3d9f1d8db4e)]\n",
    "s_v   = [Sky_VESTA_1.F(0x6f7721ff66a1725a6647d22c3a9032b91f2d82e3bf61a6f5a88ac1c1df0de2f4), Sky_VESTA_1.F(0x205325dcd29fb570ae478e12273840597b0d9adf8b76f6c8ed4ac3d9f1d8db4e)]\n",
    "\n",
    "# expectation from rust implementation:\n",
    "e_bls = [Sky_BLS381_1.F(0x4eb0c78fe1edb5f5e4b582fea1d36c4778a3b09b51722dd741695995201d8859), Sky_BLS381_1.F(0x405de57b5b37facaf16a44b0edb2f6ba84996cefa686f70e187a0f34c5d16c8)]  \n",
    "e_bn  = [Sky_BN254_1.F(0x12998f99c09d1c18162041642fd35a0b31cfdf560bc6ee14fa841165cb51664e), Sky_BN254_1.F(0x1a3d2642c9398e9bef8a84e5ede238a1fd395f9351be64ab377ecb11a0660fef)]\n",
    "e_p   = [Sky_PALLAS_1.F(0xf2eb2dea75b4b386a4f36231cc6cc50a3caf3946d06a85cf83824d29dceb7fb), Sky_PALLAS_1.F(0x21e8cc98e7c3926444b670817a9631425ca7817571b9f8b697cb4d24cb5240c1)]\n",
    "e_v   = [Sky_VESTA_1.F(0x2c7a5a2d2be4f84e575558a36d44fbdc5b7c93a41b5f78fae4d8b0b673537624), Sky_VESTA_1.F(0xd8fbf9f43be7eb1a7fce316c0110efeeae74639f8005788d8b3ff796f5ef8f3)]\n",
    "\n",
    "inputs = [s_bls, s_bn, s_p, s_v]\n",
    "expected = [e_bls, e_bn, e_p, e_v]\n",
    "\n",
    "for s, e, sky in zip(inputs, expected, instances1):\n",
    "    out = sky(s)\n",
    "    for o in out:\n",
    "        print(hex(o))\n",
    "    assert e == out, f\"Expected {e} but got {out}\"\n",
    "    print(\"\")\n"
   ]
  },
  {
   "cell_type": "code",
   "execution_count": null,
   "id": "e477da3c",
   "metadata": {
    "vscode": {
     "languageId": "sage"
    }
   },
   "outputs": [],
   "source": []
  },
  {
   "cell_type": "code",
   "execution_count": null,
   "id": "6f4ef0dc",
   "metadata": {
    "vscode": {
     "languageId": "sage"
    }
   },
   "outputs": [],
   "source": []
  },
  {
   "cell_type": "code",
   "execution_count": null,
   "id": "d498176c",
   "metadata": {
    "vscode": {
     "languageId": "sage"
    }
   },
   "outputs": [],
   "source": []
  }
 ],
 "metadata": {
  "kernelspec": {
   "display_name": "SageMath 9.5",
   "language": "sage",
   "name": "sagemath"
  },
  "language_info": {
   "codemirror_mode": {
    "name": "ipython",
    "version": 3
   },
   "file_extension": ".py",
   "mimetype": "text/x-python",
   "name": "python",
   "nbconvert_exporter": "python",
   "pygments_lexer": "ipython3",
   "version": "3.10.12"
  }
 },
 "nbformat": 4,
 "nbformat_minor": 5
}
